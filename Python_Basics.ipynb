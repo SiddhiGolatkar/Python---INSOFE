{
 "cells": [
  {
   "cell_type": "markdown",
   "metadata": {},
   "source": [
    "## <center>INTRODUCTION TO PYTHON</center>\n",
    "\n",
    "---"
   ]
  },
  {
   "cell_type": "markdown",
   "metadata": {},
   "source": [
    "### <center>Modules </center>\n",
    "---\n",
    "* A module is a file containing Python definitions and statements. \n",
    "* The file name is the module name with the suffix .py appended. \n",
    "* Within a module, the module’s name (as a string) is available as the value of the global variable __name__. "
   ]
  },
  {
   "cell_type": "markdown",
   "metadata": {},
   "source": [
    "#### Create a file called fibo.py with the following contents:"
   ]
  },
  {
   "cell_type": "raw",
   "metadata": {},
   "source": [
    "# Fibonacci numbers module\n",
    "\n",
    "def fib(n):    # write Fibonacci series up to n\n",
    "    a, b = 0, 1\n",
    "    while a < n:\n",
    "        print(a, end=' ')\n",
    "        a, b = b, a+b\n",
    "\n",
    "def fib2(n):   # return Fibonacci series up to n\n",
    "    result = []\n",
    "    a, b = 0, 1\n",
    "    while a < n:\n",
    "        result.append(a)\n",
    "        a, b = b, a+b\n",
    "    return result\n"
   ]
  },
  {
   "cell_type": "markdown",
   "metadata": {},
   "source": [
    "#### Import fibo module with the following command"
   ]
  },
  {
   "cell_type": "code",
   "execution_count": 1,
   "metadata": {},
   "outputs": [
    {
     "name": "stdout",
     "output_type": "stream",
     "text": [
      "__main__\n",
      "fibo\n",
      "0 1 1 2 3 5 8 13 21 34 55 89 None\n",
      "[0, 1, 1, 2, 3, 5, 8, 13, 21, 34, 55, 89]\n"
     ]
    }
   ],
   "source": [
    "import fibo\n",
    "\n",
    "print(__name__)\n",
    "# Get the name of the fibo module  \n",
    "print(fibo.__name__)\n",
    "\n",
    "#Calling fib and fib2 function in fibo module\n",
    "print(fibo.fib(100))\n",
    "print(fibo.fib2(100))"
   ]
  },
  {
   "cell_type": "markdown",
   "metadata": {},
   "source": [
    "#### Import fibo module with the following command"
   ]
  },
  {
   "cell_type": "code",
   "execution_count": 2,
   "metadata": {},
   "outputs": [
    {
     "name": "stdout",
     "output_type": "stream",
     "text": [
      "0 1 1 2 3 5 8 13 21 34 55 89 None\n"
     ]
    }
   ],
   "source": [
    "import fibo as f\n",
    "\n",
    "# Calling fib and fib2 function in fibo module\n",
    "print(f.fib(100))"
   ]
  },
  {
   "cell_type": "markdown",
   "metadata": {},
   "source": [
    "#### Import fibo function in the fibo module with the following command"
   ]
  },
  {
   "cell_type": "code",
   "execution_count": 3,
   "metadata": {},
   "outputs": [
    {
     "name": "stdout",
     "output_type": "stream",
     "text": [
      "0 1 1 2 3 5 8 13 21 34 55 89 144 233 377 None\n"
     ]
    }
   ],
   "source": [
    "from fibo import fib\n",
    "\n",
    "#Calling fib function in fibo module\n",
    "print(fib(500))"
   ]
  },
  {
   "cell_type": "markdown",
   "metadata": {},
   "source": [
    "#### import all names that a module defines:\n",
    "Note: This imports all names except those beginning with an underscore (_).\n"
   ]
  },
  {
   "cell_type": "code",
   "execution_count": 4,
   "metadata": {},
   "outputs": [
    {
     "name": "stdout",
     "output_type": "stream",
     "text": [
      "0 1 1 2 3 5 8 13 21 34 55 89 144 233 377 None\n",
      "[0, 1, 1, 2, 3, 5, 8, 13, 21, 34, 55, 89]\n"
     ]
    }
   ],
   "source": [
    "from fibo import *\n",
    "print(fib(500))\n",
    "print(fib2(100))"
   ]
  },
  {
   "cell_type": "markdown",
   "metadata": {},
   "source": [
    "### <center>Primary Data Types</center>\n",
    "---"
   ]
  },
  {
   "cell_type": "markdown",
   "metadata": {},
   "source": [
    "### 1. Integer"
   ]
  },
  {
   "cell_type": "code",
   "execution_count": 5,
   "metadata": {},
   "outputs": [
    {
     "name": "stdout",
     "output_type": "stream",
     "text": [
      "580\n",
      "<class 'int'>\n"
     ]
    }
   ],
   "source": [
    "n = 580\n",
    "print(n)\n",
    "print(type(n))"
   ]
  },
  {
   "cell_type": "markdown",
   "metadata": {},
   "source": [
    "### 2. Float"
   ]
  },
  {
   "cell_type": "code",
   "execution_count": 6,
   "metadata": {},
   "outputs": [
    {
     "name": "stdout",
     "output_type": "stream",
     "text": [
      "580.65\n",
      "<class 'float'>\n"
     ]
    }
   ],
   "source": [
    "f = 580.65\n",
    "print(f)\n",
    "print(type(f))"
   ]
  },
  {
   "cell_type": "markdown",
   "metadata": {},
   "source": [
    "#### <center>Arithematic Operators</center>"
   ]
  },
  {
   "cell_type": "code",
   "execution_count": 7,
   "metadata": {},
   "outputs": [
    {
     "name": "stdout",
     "output_type": "stream",
     "text": [
      "Add :  581\n",
      "Sub :  579\n",
      "Mul :  1160\n",
      "Exp :  336400\n",
      "Quotient :  116\n",
      "Remainder :  2\n"
     ]
    }
   ],
   "source": [
    "print (\"Add : \", n + 1)   # Addition;\n",
    "print (\"Sub : \", n - 1)   # Subtraction;\n",
    "print (\"Mul : \", n * 2)   # Multiplication;\n",
    "print (\"Exp : \", n ** 2)  # Exponentiation;\n",
    "\n",
    "i = n + 2\n",
    "print (\"Quotient : \", i // 5) # Floored Quotient\n",
    "print (\"Remainder : \", i % 5)   # Modulus - gives remainder"
   ]
  },
  {
   "cell_type": "markdown",
   "metadata": {},
   "source": [
    "#### <center>Comparision Operators</center>"
   ]
  },
  {
   "cell_type": "code",
   "execution_count": 8,
   "metadata": {},
   "outputs": [
    {
     "name": "stdout",
     "output_type": "stream",
     "text": [
      "10 == 10 --  True\n",
      "10 != 20 --  True\n",
      "10 > 10 --  False\n",
      "10 < 20 --  True\n",
      "10 <= 10 --  True\n"
     ]
    }
   ],
   "source": [
    "print(\"10 == 10 -- \", 10 == 10)  # Equal to comparision\n",
    "print(\"10 != 20 -- \", 10 != 20)  # Not equal to comparision\n",
    "print(\"10 > 10 -- \", 10 > 10)    # Greater than\n",
    "print(\"10 < 20 -- \", 10 < 20)    # Smaller than\n",
    "print(\"10 <= 10 -- \", 10 <= 10)  # Smaller OR Equal to"
   ]
  },
  {
   "cell_type": "markdown",
   "metadata": {},
   "source": [
    "#### <center>ACTIVITY</center>"
   ]
  },
  {
   "cell_type": "markdown",
   "metadata": {},
   "source": [
    "A circumcribed circle is cut out of a square of length 10 cm. Print out the remaining area?\n",
    "\n",
    "(Area of square = ${a^2}$, Area of circle = $\\pi r^2$)"
   ]
  },
  {
   "cell_type": "code",
   "execution_count": 4,
   "metadata": {},
   "outputs": [
    {
     "name": "stdout",
     "output_type": "stream",
     "text": [
      "314.0\n"
     ]
    }
   ],
   "source": [
    "a = 10\n",
    "area = 3.14*a**2\n",
    "print(area)"
   ]
  },
  {
   "cell_type": "markdown",
   "metadata": {},
   "source": [
    "### 3. Boolean"
   ]
  },
  {
   "cell_type": "code",
   "execution_count": 9,
   "metadata": {},
   "outputs": [
    {
     "name": "stdout",
     "output_type": "stream",
     "text": [
      "True\n",
      "<class 'bool'>\n"
     ]
    }
   ],
   "source": [
    "b = True\n",
    "print(b)\n",
    "print(type(b))"
   ]
  },
  {
   "cell_type": "markdown",
   "metadata": {},
   "source": [
    "#### <center>Logical Operations</center>"
   ]
  },
  {
   "cell_type": "code",
   "execution_count": 10,
   "metadata": {},
   "outputs": [
    {
     "name": "stdout",
     "output_type": "stream",
     "text": [
      "False\n",
      "True\n",
      "False\n",
      "True\n",
      "False\n",
      "True\n"
     ]
    }
   ],
   "source": [
    "t, f = True, False\n",
    "\n",
    "print (t and f) # Logical AND;\n",
    "print (t or f)  # Logical OR;\n",
    "print (not t)   # Logical NOT;\n",
    "print (t != f)  # Logical XOR;\n",
    "\n",
    "print (t & f) # bitwise Logical AND;\n",
    "print (t | f) # bitwise Logical OR;"
   ]
  },
  {
   "cell_type": "markdown",
   "metadata": {},
   "source": [
    "### 4. String"
   ]
  },
  {
   "cell_type": "code",
   "execution_count": 11,
   "metadata": {},
   "outputs": [
    {
     "name": "stdout",
     "output_type": "stream",
     "text": [
      "hello world\n",
      "<class 'str'>\n"
     ]
    }
   ],
   "source": [
    "s = \"hello\"\n",
    "print(s, \"world\")\n",
    "print(type(s))"
   ]
  },
  {
   "cell_type": "markdown",
   "metadata": {},
   "source": [
    "#### <center>String Operations</center>"
   ]
  },
  {
   "cell_type": "code",
   "execution_count": 12,
   "metadata": {},
   "outputs": [
    {
     "name": "stdout",
     "output_type": "stream",
     "text": [
      "Hello\n",
      "HELLO\n",
      "  hello\n",
      " hello \n",
      "he(ell)(ell)o\n",
      "world\n",
      "['I', 'love', 'my', 'country']\n",
      "I love my country\n"
     ]
    }
   ],
   "source": [
    "print (s.capitalize())  # Capitalize a string\n",
    "print (s.upper())       # Convert a string to uppercase\n",
    "print (s.rjust(7))      # Right-justify a string, padding with spaces\n",
    "print (s.center(7))     # Center a string, padding with spaces\n",
    "print (s.replace('l', '(ell)'))  # Replace all instances of one substring with another;\n",
    "print ('  world '.strip())  # Strip leading and trailing whitespace\n",
    "l = \"I love my country\".split()\n",
    "print(l)        \n",
    "print(\" \".join(l))"
   ]
  },
  {
   "cell_type": "markdown",
   "metadata": {},
   "source": [
    "#### <center>ACTIVITY</center>"
   ]
  },
  {
   "cell_type": "markdown",
   "metadata": {},
   "source": [
    "Create a variable 's1' and assign the value 'I' to it. \n",
    "\n",
    "Create another variable 's2' and assign the value 'AM FROM BATCH' to it. \n",
    "\n",
    "Create another variable 's3' and assign the value 'insofe' to it. \n",
    "\n",
    "Create an integer variable 'batchNum' and assign the value 70 to it. \n",
    "\n",
    "Print result that looks like this: \"     I am from INSOFE batch 70!!!     \""
   ]
  },
  {
   "cell_type": "code",
   "execution_count": null,
   "metadata": {},
   "outputs": [],
   "source": []
  },
  {
   "cell_type": "markdown",
   "metadata": {},
   "source": [
    "####  <center>Explicit Data Type Conversion </center>\n"
   ]
  },
  {
   "cell_type": "code",
   "execution_count": 13,
   "metadata": {},
   "outputs": [
    {
     "name": "stdout",
     "output_type": "stream",
     "text": [
      "s :  580.65 <class 'str'>\n",
      "f :  580.65 <class 'float'>\n",
      "n :  580 <class 'int'>\n"
     ]
    }
   ],
   "source": [
    "s = \"580.65\"\n",
    "print(\"s : \", s, type(s))\n",
    "\n",
    "f = float(s)\n",
    "print(\"f : \", f, type(f))\n",
    "\n",
    "n = int(f) \n",
    "print(\"n : \", n, type(n))"
   ]
  },
  {
   "cell_type": "markdown",
   "metadata": {},
   "source": [
    "### range\n",
    "range(stop)\n",
    "\n",
    "range(start, stop, step)\n",
    "\n",
    "Range objects can only represent sequences\n",
    "\n",
    "Range object takes small amount of memory, irrespective of the size of the range it represents as it only stores the start, stop and step values (calculating individual items and subranges as needed)\n",
    "\n",
    "Rather than being a function, range is actually an immutable sequence type."
   ]
  },
  {
   "cell_type": "code",
   "execution_count": 14,
   "metadata": {},
   "outputs": [
    {
     "name": "stdout",
     "output_type": "stream",
     "text": [
      "range(0, 5)\n",
      "[0, 1, 2, 3, 4]\n",
      "[0, 1, 8, 9, 4]\n"
     ]
    }
   ],
   "source": [
    "r = range(5)\n",
    "print(r)\n",
    "\n",
    "nums = list(r)    \n",
    "print (nums) \n",
    "\n",
    "nums[2:4] = [8, 9]       \n",
    "print (nums)  "
   ]
  },
  {
   "cell_type": "code",
   "execution_count": 15,
   "metadata": {},
   "outputs": [
    {
     "name": "stdout",
     "output_type": "stream",
     "text": [
      "range(5, 15, 2)\n",
      "[5, 7, 9, 11, 13]\n"
     ]
    }
   ],
   "source": [
    "r = range(5, 15, 2)\n",
    "print(r)\n",
    "\n",
    "nums = list(r)    \n",
    "print (nums)"
   ]
  },
  {
   "cell_type": "markdown",
   "metadata": {},
   "source": [
    "### <center> Conditional Statements </center>"
   ]
  },
  {
   "cell_type": "markdown",
   "metadata": {},
   "source": [
    "### if Statements"
   ]
  },
  {
   "cell_type": "markdown",
   "metadata": {},
   "source": [
    "![](img/if_else.png)"
   ]
  },
  {
   "cell_type": "code",
   "execution_count": 5,
   "metadata": {},
   "outputs": [
    {
     "name": "stdout",
     "output_type": "stream",
     "text": [
      "Please enter an integer: 3\n"
     ]
    }
   ],
   "source": [
    "x = int(input(\"Please enter an integer: \"))"
   ]
  },
  {
   "cell_type": "code",
   "execution_count": 17,
   "metadata": {},
   "outputs": [
    {
     "name": "stdout",
     "output_type": "stream",
     "text": [
      "More\n"
     ]
    }
   ],
   "source": [
    "if x < 0 :\n",
    "    x = 0\n",
    "    print('Negative changed to zero')\n",
    "elif x == 0 :\n",
    "    print('Zero')\n",
    "elif x == 1:\n",
    "    print('Single')\n",
    "else :\n",
    "    print('More')"
   ]
  },
  {
   "cell_type": "code",
   "execution_count": 18,
   "metadata": {},
   "outputs": [
    {
     "name": "stdout",
     "output_type": "stream",
     "text": [
      "Numeric\n"
     ]
    }
   ],
   "source": [
    "i = 5\n",
    "\n",
    "if isinstance(i, str):\n",
    "    print('String')\n",
    "elif isinstance(i, (int, float)):\n",
    "    if isinstance(i, int):\n",
    "        print('Numeric')\n",
    "    else :\n",
    "        print('Float')"
   ]
  },
  {
   "cell_type": "markdown",
   "metadata": {},
   "source": [
    "#### <center>ACTIVITY</center>"
   ]
  },
  {
   "cell_type": "markdown",
   "metadata": {},
   "source": [
    "Read in an integer number using input. Using if-else statement, check if the number is even or odd. \n",
    "\n",
    "If even, print out \"Number is even\". If odd, print out \"Number is odd\""
   ]
  },
  {
   "cell_type": "code",
   "execution_count": 3,
   "metadata": {},
   "outputs": [
    {
     "name": "stdout",
     "output_type": "stream",
     "text": [
      "5\n",
      "Number is Odd\n"
     ]
    }
   ],
   "source": [
    "x = int(input())\n",
    "if x%2==0:\n",
    "    print('Number is even')\n",
    "else:\n",
    "    print('Number is Odd') "
   ]
  },
  {
   "cell_type": "markdown",
   "metadata": {},
   "source": [
    "### <center> Loops </center>\n",
    "---\n",
    "Loops are useful when a operation has to be performed over a series of elements."
   ]
  },
  {
   "cell_type": "code",
   "execution_count": 19,
   "metadata": {
    "scrolled": true
   },
   "outputs": [
    {
     "name": "stdout",
     "output_type": "stream",
     "text": [
      "cat\n",
      "dog\n",
      "monkey\n"
     ]
    }
   ],
   "source": [
    "animals = ['cat', 'dog', 'monkey']\n",
    "\n",
    "for animal in animals:\n",
    "    print (animal)"
   ]
  },
  {
   "cell_type": "code",
   "execution_count": 8,
   "metadata": {},
   "outputs": [
    {
     "name": "stdout",
     "output_type": "stream",
     "text": [
      "0\n",
      "5\n",
      "10\n",
      "15\n"
     ]
    }
   ],
   "source": [
    "for i in range(0, 20, 5) :\n",
    "    print(i)"
   ]
  },
  {
   "cell_type": "markdown",
   "metadata": {},
   "source": [
    "#### <center>ACTIVITY</center>"
   ]
  },
  {
   "cell_type": "markdown",
   "metadata": {},
   "source": [
    "Count the number of vowels in the string \"Hello Batch 70\""
   ]
  },
  {
   "cell_type": "code",
   "execution_count": 7,
   "metadata": {},
   "outputs": [
    {
     "name": "stdout",
     "output_type": "stream",
     "text": [
      "3\n"
     ]
    }
   ],
   "source": [
    "line = 'Hello Batch 70'\n",
    "count = 0\n",
    "\n",
    "for vowels in line:\n",
    "    if vowels in 'aeiouAEIOU':\n",
    "        count += 1\n",
    "\n",
    "print(count)      "
   ]
  },
  {
   "cell_type": "markdown",
   "metadata": {},
   "source": [
    "### <center>Containers</center>\n",
    "---\n",
    "\n",
    "\n",
    "Python includes several built-in container types: \n",
    "- lists\n",
    "- dictionaries\n",
    "- sets\n",
    "- tuples"
   ]
  },
  {
   "cell_type": "markdown",
   "metadata": {},
   "source": [
    "### 1. Lists"
   ]
  },
  {
   "cell_type": "markdown",
   "metadata": {},
   "source": [
    "A list is the Python equivalent of an array."
   ]
  },
  {
   "cell_type": "code",
   "execution_count": 20,
   "metadata": {},
   "outputs": [
    {
     "name": "stdout",
     "output_type": "stream",
     "text": [
      "[3, 1, 2]\n"
     ]
    }
   ],
   "source": [
    "xs = [3, 1, 2]   # Create a list\n",
    "print (xs)"
   ]
  },
  {
   "cell_type": "markdown",
   "metadata": {},
   "source": [
    "It can contain elements of different types."
   ]
  },
  {
   "cell_type": "code",
   "execution_count": 21,
   "metadata": {},
   "outputs": [
    {
     "name": "stdout",
     "output_type": "stream",
     "text": [
      "[3, 1, 'foo']\n"
     ]
    }
   ],
   "source": [
    "xs[2] = 'foo'    \n",
    "print (xs)"
   ]
  },
  {
   "cell_type": "markdown",
   "metadata": {},
   "source": [
    "It is resizeable."
   ]
  },
  {
   "cell_type": "code",
   "execution_count": 22,
   "metadata": {},
   "outputs": [
    {
     "name": "stdout",
     "output_type": "stream",
     "text": [
      "[3, 1, 'foo', 'bar']\n",
      "bar\n",
      "[3, 1, 'foo']\n"
     ]
    }
   ],
   "source": [
    "xs.append('bar') # Add a new element to the end of the list\n",
    "print (xs) \n",
    "\n",
    "x = xs.pop()     # Remove and return the last element of the list\n",
    "print (x)\n",
    "print (xs) "
   ]
  },
  {
   "cell_type": "markdown",
   "metadata": {},
   "source": [
    "Extend helps to add a list to list"
   ]
  },
  {
   "cell_type": "code",
   "execution_count": 23,
   "metadata": {},
   "outputs": [
    {
     "name": "stdout",
     "output_type": "stream",
     "text": [
      "[3, 1, 'foo', 111, 222, 333]\n"
     ]
    }
   ],
   "source": [
    "xs.extend([111,222,333])\n",
    "print(xs)"
   ]
  },
  {
   "cell_type": "markdown",
   "metadata": {},
   "source": [
    "Python index starts with zero."
   ]
  },
  {
   "cell_type": "markdown",
   "metadata": {},
   "source": [
    "![](img/list.png)"
   ]
  },
  {
   "cell_type": "code",
   "execution_count": 24,
   "metadata": {},
   "outputs": [
    {
     "name": "stdout",
     "output_type": "stream",
     "text": [
      "3\n",
      "foo\n",
      "333 222 111\n"
     ]
    }
   ],
   "source": [
    "print (xs[0])\n",
    "print (xs[2])\n",
    "print (xs[-1], xs[-2], xs[-3])     # Negative indices count from the end of the list"
   ]
  },
  {
   "cell_type": "markdown",
   "metadata": {},
   "source": [
    "#### <center>ACTIVITY</center>"
   ]
  },
  {
   "cell_type": "markdown",
   "metadata": {},
   "source": [
    "Create a list 'mySecondList' with the following elements in it: 'a', 'b', 23, True.\n",
    "\n",
    "Add another element 'batch' to it.\n",
    "\n",
    "Extract out the last element using reverse indexing. \n",
    "\n",
    "Change the element at index 1 to 'bat'. \n",
    "\n",
    "Print out the modified list"
   ]
  },
  {
   "cell_type": "code",
   "execution_count": 10,
   "metadata": {},
   "outputs": [
    {
     "name": "stdout",
     "output_type": "stream",
     "text": [
      "['a', 'b', 23, True, 'batch']\n",
      "batch\n",
      "['a', 'bat', 23, True, 'batch']\n"
     ]
    }
   ],
   "source": [
    "mysecondlist = ['a', 'b', 23, True]\n",
    "\n",
    "mysecondlist.append('batch')\n",
    "\n",
    "print(mysecondlist)\n",
    "\n",
    "print(mysecondlist[-1])\n",
    "\n",
    "mysecondlist[1] = 'bat'\n",
    "\n",
    "print(mysecondlist)\n"
   ]
  },
  {
   "cell_type": "markdown",
   "metadata": {},
   "source": [
    "### <center> List comprehensions </center>\n",
    "\n",
    "When programming, frequently we want to transform one type of data into another. \n",
    "As a simple example, consider the following code that computes square numbers:"
   ]
  },
  {
   "cell_type": "code",
   "execution_count": 9,
   "metadata": {},
   "outputs": [
    {
     "name": "stdout",
     "output_type": "stream",
     "text": [
      "[0, 4, 16]\n"
     ]
    }
   ],
   "source": [
    "nums = [0, 1, 2, 3, 4]\n",
    "squares = []\n",
    "\n",
    "for x in nums :\n",
    "    if x % 2 == 0 :\n",
    "        squares.append(x ** 2)\n",
    "    \n",
    "print(squares)"
   ]
  },
  {
   "cell_type": "markdown",
   "metadata": {},
   "source": [
    "You can make this code simpler using a list comprehension:"
   ]
  },
  {
   "cell_type": "code",
   "execution_count": 26,
   "metadata": {},
   "outputs": [
    {
     "name": "stdout",
     "output_type": "stream",
     "text": [
      "[0, 1, 4, 9, 16]\n"
     ]
    }
   ],
   "source": [
    "nums = [0, 1, 2, 3, 4]\n",
    "\n",
    "print( [ x ** 2 for x in nums ] )"
   ]
  },
  {
   "cell_type": "markdown",
   "metadata": {},
   "source": [
    "List comprehensions can also contain conditions:"
   ]
  },
  {
   "cell_type": "code",
   "execution_count": 27,
   "metadata": {},
   "outputs": [
    {
     "name": "stdout",
     "output_type": "stream",
     "text": [
      "[0, 4, 16]\n"
     ]
    }
   ],
   "source": [
    "nums = [0, 1, 2, 3, 4]\n",
    "\n",
    "print( [ x ** 2 for x in nums if x % 2 == 0 ]  )"
   ]
  },
  {
   "cell_type": "markdown",
   "metadata": {},
   "source": [
    "#### <center>ACTIVITY</center>"
   ]
  },
  {
   "cell_type": "markdown",
   "metadata": {},
   "source": [
    "Create two variables: 'var1' with values 1-5 and 'var2' with values 10-20 in steps of 2 (i.e., 10,12,14,... etc). \n",
    "Using list comprehensions, print out result of (var1+var2) if (var1+var2) is a multiple of 3."
   ]
  },
  {
   "cell_type": "code",
   "execution_count": 25,
   "metadata": {},
   "outputs": [
    {
     "name": "stdout",
     "output_type": "stream",
     "text": [
      "var1 = [1, 2, 3, 4, 5] \n",
      "\n",
      "var2 = [10, 12, 14, 16, 18, 20] \n",
      "\n",
      "[1, 2, 3, 4, 5, 10, 12, 14, 16, 18, 20] \n",
      "\n",
      "3\n",
      "12\n",
      "18\n"
     ]
    }
   ],
   "source": [
    "var1 = list(range(1,6))\n",
    "var2 = list(range(10,22,2))\n",
    "var3 = var1 + var2\n",
    "\n",
    "print('var1 =', var1, '\\n')\n",
    "print('var2 =', var2, '\\n')\n",
    "\n",
    "print(var1 + var2, '\\n')\n",
    "\n",
    "for i in var3:\n",
    "    if i%3 == 0:\n",
    "        print(i)"
   ]
  },
  {
   "cell_type": "markdown",
   "metadata": {},
   "source": [
    "### 2. Dictionaries\n",
    "A dictionary stores (key, value) pairs."
   ]
  },
  {
   "cell_type": "code",
   "execution_count": 28,
   "metadata": {},
   "outputs": [
    {
     "name": "stdout",
     "output_type": "stream",
     "text": [
      "cute\n",
      "True\n"
     ]
    }
   ],
   "source": [
    "d = { 'cat' : 'cute', \n",
    "      'dog' : 'furry' }\n",
    "\n",
    "print (d['cat'])                   \n",
    "print ('cat' in d)                 "
   ]
  },
  {
   "cell_type": "markdown",
   "metadata": {},
   "source": [
    "New elements can be added easily."
   ]
  },
  {
   "cell_type": "code",
   "execution_count": 29,
   "metadata": {},
   "outputs": [
    {
     "name": "stdout",
     "output_type": "stream",
     "text": [
      "{'cat': 'cute', 'dog': 'furry', 'fish': 'wet'}\n"
     ]
    }
   ],
   "source": [
    "d['fish'] = 'wet'\n",
    "\n",
    "print (d)      "
   ]
  },
  {
   "cell_type": "markdown",
   "metadata": {},
   "source": [
    "Accessing a key that doesn't exist in the dictionary returns KeyError."
   ]
  },
  {
   "cell_type": "code",
   "execution_count": 30,
   "metadata": {},
   "outputs": [
    {
     "ename": "KeyError",
     "evalue": "'monkey'",
     "output_type": "error",
     "traceback": [
      "\u001b[0;31m---------------------------------------------------------------------------\u001b[0m",
      "\u001b[0;31mKeyError\u001b[0m                                  Traceback (most recent call last)",
      "\u001b[0;32m<ipython-input-30-fd5e2ac5420e>\u001b[0m in \u001b[0;36m<module>\u001b[0;34m\u001b[0m\n\u001b[0;32m----> 1\u001b[0;31m \u001b[0mprint\u001b[0m \u001b[0;34m(\u001b[0m\u001b[0md\u001b[0m\u001b[0;34m[\u001b[0m\u001b[0;34m'monkey'\u001b[0m\u001b[0;34m]\u001b[0m\u001b[0;34m)\u001b[0m\u001b[0;34m\u001b[0m\u001b[0;34m\u001b[0m\u001b[0m\n\u001b[0m",
      "\u001b[0;31mKeyError\u001b[0m: 'monkey'"
     ]
    }
   ],
   "source": [
    "print (d['monkey'])"
   ]
  },
  {
   "cell_type": "markdown",
   "metadata": {},
   "source": [
    "To avoid the error, a default value can be given using get(). If the key is present, the value is returned, else the default value is printed."
   ]
  },
  {
   "cell_type": "code",
   "execution_count": 31,
   "metadata": {},
   "outputs": [
    {
     "name": "stdout",
     "output_type": "stream",
     "text": [
      "N/A\n",
      "wet\n"
     ]
    }
   ],
   "source": [
    "print (d.get('monkey', 'N/A'))   \n",
    "print (d.get('fish', 'N/A'))    "
   ]
  },
  {
   "cell_type": "markdown",
   "metadata": {},
   "source": [
    "Remove an element from a dictionary"
   ]
  },
  {
   "cell_type": "code",
   "execution_count": 32,
   "metadata": {},
   "outputs": [],
   "source": [
    "del (d['fish'])              "
   ]
  },
  {
   "cell_type": "markdown",
   "metadata": {},
   "source": [
    "It is easy to iterate over the keys in a dictionary:"
   ]
  },
  {
   "cell_type": "code",
   "execution_count": 26,
   "metadata": {},
   "outputs": [
    {
     "name": "stdout",
     "output_type": "stream",
     "text": [
      "A person has 2 legs\n",
      "A cat has 4 legs\n",
      "A spider has 8 legs\n"
     ]
    }
   ],
   "source": [
    "d = {'person': 2, \n",
    "     'cat': 4, \n",
    "     'spider': 8}\n",
    "\n",
    "for animal in d :\n",
    "    \n",
    "    legs = d[animal]\n",
    "    print ('A %s has %d legs' % (animal, legs))"
   ]
  },
  {
   "cell_type": "code",
   "execution_count": 27,
   "metadata": {},
   "outputs": [
    {
     "data": {
      "text/plain": [
       "{'person': 2, 'cat': 4, 'spider': 8}"
      ]
     },
     "execution_count": 27,
     "metadata": {},
     "output_type": "execute_result"
    }
   ],
   "source": [
    "d"
   ]
  },
  {
   "cell_type": "code",
   "execution_count": 17,
   "metadata": {},
   "outputs": [
    {
     "name": "stdout",
     "output_type": "stream",
     "text": [
      "0 person 2\n",
      "1 cat 4\n",
      "2 spider 8\n"
     ]
    }
   ],
   "source": [
    "for idx, animal in enumerate(d) :\n",
    "    print(idx, animal, d[animal])"
   ]
  },
  {
   "cell_type": "code",
   "execution_count": 34,
   "metadata": {},
   "outputs": [
    {
     "name": "stdout",
     "output_type": "stream",
     "text": [
      "['A person has 2 legs', 'A cat has 4 legs', 'A spider has 8 legs']\n"
     ]
    }
   ],
   "source": [
    "print ( [ 'A %s has %d legs' % (animal, d[animal]) for animal in d])"
   ]
  },
  {
   "cell_type": "code",
   "execution_count": 35,
   "metadata": {},
   "outputs": [
    {
     "name": "stdout",
     "output_type": "stream",
     "text": [
      "A person has 2 legs\n",
      "A cat has 4 legs\n",
      "A spider has 8 legs\n"
     ]
    }
   ],
   "source": [
    "for animal, legs in d.items():   \n",
    "    \n",
    "    print('A', animal, 'has', legs, 'legs')"
   ]
  },
  {
   "cell_type": "markdown",
   "metadata": {},
   "source": [
    "### <center>Dictionary comprehensions </center>"
   ]
  },
  {
   "cell_type": "markdown",
   "metadata": {},
   "source": [
    "These are similar to list comprehensions, but allow you to easily construct dictionaries."
   ]
  },
  {
   "cell_type": "code",
   "execution_count": 13,
   "metadata": {
    "scrolled": true
   },
   "outputs": [
    {
     "data": {
      "text/plain": [
       "{0: 0, 2: 4, 4: 16}"
      ]
     },
     "execution_count": 13,
     "metadata": {},
     "output_type": "execute_result"
    }
   ],
   "source": [
    "{ x : x ** 2 for x in range(5) if x % 2 == 0}"
   ]
  },
  {
   "cell_type": "markdown",
   "metadata": {},
   "source": [
    "#### <center>ACTIVITY</center>"
   ]
  },
  {
   "cell_type": "markdown",
   "metadata": {},
   "source": [
    "Create a dictionary of numbers from 1-10 and tag them odd or even. Hint - Keys should be numbers 1-10 and values should be 'odd' or 'even'"
   ]
  },
  {
   "cell_type": "code",
   "execution_count": 30,
   "metadata": {},
   "outputs": [
    {
     "name": "stdout",
     "output_type": "stream",
     "text": [
      "{1: 'Odd', 2: 'Even', 3: 'Odd', 4: 'Even', 5: 'Odd', 6: 'Even', 7: 'Odd', 8: 'Even', 9: 'Odd', 10: 'Even'}\n"
     ]
    }
   ],
   "source": [
    "numbers = list(range(1,11))\n",
    "\n",
    "print({x : 'Even' if (x % 2) == 0 else 'Odd' for x in numbers})\n"
   ]
  },
  {
   "cell_type": "markdown",
   "metadata": {},
   "source": [
    "#### <center> Membership operator </center>"
   ]
  },
  {
   "cell_type": "code",
   "execution_count": 37,
   "metadata": {},
   "outputs": [
    {
     "name": "stdout",
     "output_type": "stream",
     "text": [
      "'R' in my_list => True\n"
     ]
    }
   ],
   "source": [
    "my_list = [\"R\", \"Python\", \"SQL\"]\n",
    "\n",
    "print(\"'R' in my_list =>\", 'R' in my_list)"
   ]
  },
  {
   "cell_type": "markdown",
   "metadata": {},
   "source": [
    "By default membership operator only checks keys of the dictionary. We use dict.values() to check for the values"
   ]
  },
  {
   "cell_type": "code",
   "execution_count": 38,
   "metadata": {},
   "outputs": [
    {
     "name": "stdout",
     "output_type": "stream",
     "text": [
      "'cat' in my_dict => True\n",
      "'cute' in my_dict => False\n",
      "'cute' in my_dict.values() => True\n"
     ]
    }
   ],
   "source": [
    "my_dict = {'cat': 'cute', 'dog': 'furry'}\n",
    "\n",
    "print(\"'cat' in my_dict =>\", 'cat' in my_dict)\n",
    "print(\"'cute' in my_dict =>\", 'cute' in my_dict)\n",
    "\n",
    "print(\"'cute' in my_dict.values() =>\", 'cute' in my_dict.values())"
   ]
  },
  {
   "cell_type": "markdown",
   "metadata": {},
   "source": [
    "Use enumerate() on a list to iterate thorugh index"
   ]
  },
  {
   "cell_type": "code",
   "execution_count": 39,
   "metadata": {},
   "outputs": [
    {
     "name": "stdout",
     "output_type": "stream",
     "text": [
      "Index 1 cat\n",
      "Index 2 dog\n",
      "Index 3 monkey\n"
     ]
    }
   ],
   "source": [
    "animals = ['cat', 'dog', 'monkey']\n",
    "\n",
    "for idx, animal in enumerate(animals):\n",
    "    print('Index', idx + 1, animal)"
   ]
  },
  {
   "cell_type": "markdown",
   "metadata": {},
   "source": [
    "#### <center>ACTIVITY</center>"
   ]
  },
  {
   "cell_type": "markdown",
   "metadata": {},
   "source": [
    "Create a dictionary 'myDict' with the following (key, value) pairs. ('Name', \"XYZ\"), ('Batch', 70), (\"Location\", \"Mumbai\").\n",
    "Iterate over the dictionary and print out the following (order doesn't matter):\n",
    "\n",
    "My Name is XYZ\n",
    "\n",
    "My Batch is 70\n",
    "\n",
    "My Location is Mumbai"
   ]
  },
  {
   "cell_type": "code",
   "execution_count": 35,
   "metadata": {},
   "outputs": [
    {
     "name": "stdout",
     "output_type": "stream",
     "text": [
      "My Name is XYZ\n",
      "My Batch is 70\n",
      "My Location is Mumbai\n"
     ]
    }
   ],
   "source": [
    "mydict = {'Name': 'XYZ', 'Batch':70, 'Location': 'Mumbai'}\n",
    "\n",
    "for x,y in mydict.items():\n",
    "    print('My %s is %s' %(x,y))"
   ]
  },
  {
   "cell_type": "markdown",
   "metadata": {},
   "source": [
    "### 3. Set\n",
    "\n",
    "Python Set is an unordered collection created by either curly brackets or set() constructor."
   ]
  },
  {
   "cell_type": "code",
   "execution_count": 40,
   "metadata": {},
   "outputs": [
    {
     "name": "stdout",
     "output_type": "stream",
     "text": [
      "<class 'set'>\n",
      "<class 'set'>\n"
     ]
    }
   ],
   "source": [
    "set1 = set((1, 2))\n",
    "\n",
    "set2 = {'a',\n",
    "        'm',\n",
    "        'h'}\n",
    "\n",
    "print(type(set1))\n",
    "print(type(set2))"
   ]
  },
  {
   "cell_type": "markdown",
   "metadata": {},
   "source": [
    "Add an element to set"
   ]
  },
  {
   "cell_type": "code",
   "execution_count": 41,
   "metadata": {},
   "outputs": [
    {
     "name": "stdout",
     "output_type": "stream",
     "text": [
      "{1, 2, 10}\n"
     ]
    }
   ],
   "source": [
    "set1.add(10)\n",
    "print(set1)"
   ]
  },
  {
   "cell_type": "markdown",
   "metadata": {},
   "source": [
    "Add many element to set"
   ]
  },
  {
   "cell_type": "code",
   "execution_count": 42,
   "metadata": {},
   "outputs": [
    {
     "name": "stdout",
     "output_type": "stream",
     "text": [
      "{1, 2, 7, 8, 10}\n"
     ]
    }
   ],
   "source": [
    "set1.update([7,8])\n",
    "print(set1)"
   ]
  },
  {
   "cell_type": "markdown",
   "metadata": {},
   "source": [
    "Remove an item from set."
   ]
  },
  {
   "cell_type": "code",
   "execution_count": 43,
   "metadata": {},
   "outputs": [
    {
     "name": "stdout",
     "output_type": "stream",
     "text": [
      "{1, 2, 8, 10}\n",
      "{1, 2, 10}\n"
     ]
    }
   ],
   "source": [
    "set1.discard(7)\n",
    "print(set1)\n",
    "\n",
    "set1.remove(8)\n",
    "print(set1)"
   ]
  },
  {
   "cell_type": "markdown",
   "metadata": {},
   "source": [
    "Count number of elements of set"
   ]
  },
  {
   "cell_type": "code",
   "execution_count": 44,
   "metadata": {},
   "outputs": [
    {
     "data": {
      "text/plain": [
       "3"
      ]
     },
     "execution_count": 44,
     "metadata": {},
     "output_type": "execute_result"
    }
   ],
   "source": [
    "len(set1)"
   ]
  },
  {
   "cell_type": "markdown",
   "metadata": {},
   "source": [
    "Set is unindexed so it cannot be accessed with index, it can be looped through."
   ]
  },
  {
   "cell_type": "code",
   "execution_count": 45,
   "metadata": {},
   "outputs": [
    {
     "name": "stdout",
     "output_type": "stream",
     "text": [
      "1\n",
      "2\n",
      "10\n"
     ]
    }
   ],
   "source": [
    "for i in set1:\n",
    "    print(i)"
   ]
  },
  {
   "cell_type": "markdown",
   "metadata": {},
   "source": [
    "#### <center> Set operations </center>"
   ]
  },
  {
   "cell_type": "code",
   "execution_count": 28,
   "metadata": {},
   "outputs": [
    {
     "name": "stdout",
     "output_type": "stream",
     "text": [
      "{2, 3, 4, 5, 6, 7, 8, 9}\n",
      "{6}\n",
      "{8, 9, 7}\n",
      "{8, 9, 7}\n"
     ]
    }
   ],
   "source": [
    "set1 = {6, 7, 8, 9}\n",
    "set2 = {2, 3, 4, 5, 6}\n",
    "\n",
    "print(set1.union(set2))\n",
    "print(set1.intersection(set2))\n",
    "print(set1.difference(set2))\n",
    "print(set1 - set2)"
   ]
  },
  {
   "cell_type": "markdown",
   "metadata": {},
   "source": [
    "### 4. Tuples\n",
    "\n",
    "A tuple is an (immutable) ordered list of values. \n",
    "\n",
    "A tuple is in many ways similar to a list; one of the most important differences is that tuples can be used as keys in dictionaries, while lists cannot. "
   ]
  },
  {
   "cell_type": "code",
   "execution_count": 37,
   "metadata": {},
   "outputs": [
    {
     "name": "stdout",
     "output_type": "stream",
     "text": [
      "(5, 6) <class 'tuple'>\n"
     ]
    }
   ],
   "source": [
    "t = (5, 6)       \n",
    "\n",
    "print (t, type(t))"
   ]
  },
  {
   "cell_type": "markdown",
   "metadata": {},
   "source": [
    "Create a dictionary with tuple keys"
   ]
  },
  {
   "cell_type": "code",
   "execution_count": 38,
   "metadata": {},
   "outputs": [
    {
     "data": {
      "text/plain": [
       "{(0, 1): 0,\n",
       " (1, 2): 1,\n",
       " (2, 3): 2,\n",
       " (3, 4): 3,\n",
       " (4, 5): 4,\n",
       " (5, 6): 5,\n",
       " (6, 7): 6,\n",
       " (7, 8): 7,\n",
       " (8, 9): 8,\n",
       " (9, 10): 9}"
      ]
     },
     "execution_count": 38,
     "metadata": {},
     "output_type": "execute_result"
    }
   ],
   "source": [
    "d = { (x, x + 1) : x for x in range(10) }  \n",
    "\n",
    "d"
   ]
  },
  {
   "cell_type": "code",
   "execution_count": 39,
   "metadata": {},
   "outputs": [
    {
     "name": "stdout",
     "output_type": "stream",
     "text": [
      "5\n"
     ]
    }
   ],
   "source": [
    "print (d[t])"
   ]
  },
  {
   "cell_type": "code",
   "execution_count": 40,
   "metadata": {},
   "outputs": [
    {
     "name": "stdout",
     "output_type": "stream",
     "text": [
      "1\n"
     ]
    }
   ],
   "source": [
    "print (d[(1, 2)])"
   ]
  },
  {
   "cell_type": "markdown",
   "metadata": {},
   "source": [
    "Tuples once created cannot modified."
   ]
  },
  {
   "cell_type": "code",
   "execution_count": 41,
   "metadata": {},
   "outputs": [
    {
     "ename": "TypeError",
     "evalue": "'tuple' object does not support item assignment",
     "output_type": "error",
     "traceback": [
      "\u001b[0;31m---------------------------------------------------------------------------\u001b[0m",
      "\u001b[0;31mTypeError\u001b[0m                                 Traceback (most recent call last)",
      "\u001b[0;32m<ipython-input-41-c8aeb8cd20ae>\u001b[0m in \u001b[0;36m<module>\u001b[0;34m\u001b[0m\n\u001b[0;32m----> 1\u001b[0;31m \u001b[0mt\u001b[0m\u001b[0;34m[\u001b[0m\u001b[0;36m0\u001b[0m\u001b[0;34m]\u001b[0m \u001b[0;34m=\u001b[0m \u001b[0;36m1\u001b[0m\u001b[0;34m\u001b[0m\u001b[0;34m\u001b[0m\u001b[0m\n\u001b[0m",
      "\u001b[0;31mTypeError\u001b[0m: 'tuple' object does not support item assignment"
     ]
    }
   ],
   "source": [
    "t[0] = 1"
   ]
  },
  {
   "cell_type": "markdown",
   "metadata": {},
   "source": [
    "#### <center>ACTIVITY</center>"
   ]
  },
  {
   "cell_type": "markdown",
   "metadata": {},
   "source": [
    "Create a tuple named 'myTup' with the following elements: 1, 2, 'abc'. \n",
    "\n",
    "Print this tuple. \n",
    "\n",
    "Access the first two elements of the tuple. \n",
    "\n",
    "Can you add another element 'xyz' to myTup? \n",
    "\n",
    "What should we do if we want to get (1, 2, 'abc', 'xyz') using the existing tuple?"
   ]
  },
  {
   "cell_type": "code",
   "execution_count": 44,
   "metadata": {},
   "outputs": [
    {
     "name": "stdout",
     "output_type": "stream",
     "text": [
      "(1, 2, 'abc')\n",
      "(1, 2)\n",
      "(1, 2, 'abc', 'xyz')\n"
     ]
    }
   ],
   "source": [
    "mytup = (1,2,'abc')\n",
    "\n",
    "print(mytup)\n",
    "\n",
    "print(mytup[:2])\n",
    "\n",
    "newtup = mytup + ('xyz',)\n",
    "\n",
    "print(newtup)"
   ]
  },
  {
   "cell_type": "code",
   "execution_count": 46,
   "metadata": {},
   "outputs": [
    {
     "name": "stdout",
     "output_type": "stream",
     "text": [
      "2306611013816 2306612000072\n"
     ]
    }
   ],
   "source": [
    "print(id(mytup), id(newtup))"
   ]
  },
  {
   "cell_type": "markdown",
   "metadata": {},
   "source": [
    "### <center>Mutable and Immutable </center>\n",
    "---\n",
    "- Update operation is only possible in mutable objects (List, Dictionary, Set).\n",
    "- All primary data types (int, str, bool) are immutable.\n",
    "- Update operation on primary immutable data types leads to fresh assignment."
   ]
  },
  {
   "cell_type": "markdown",
   "metadata": {},
   "source": [
    "Check memory location of a variable in python"
   ]
  },
  {
   "cell_type": "code",
   "execution_count": 52,
   "metadata": {},
   "outputs": [
    {
     "data": {
      "text/plain": [
       "4519526576"
      ]
     },
     "execution_count": 52,
     "metadata": {},
     "output_type": "execute_result"
    }
   ],
   "source": [
    "id(n)"
   ]
  },
  {
   "cell_type": "code",
   "execution_count": 53,
   "metadata": {},
   "outputs": [
    {
     "name": "stdout",
     "output_type": "stream",
     "text": [
      "[2, 5, 6, 7] 4520058120\n",
      "[2, 5, 99, 7] 4520058120\n"
     ]
    }
   ],
   "source": [
    "list3 = [2,5,6,7]\n",
    "\n",
    "print(list3, id(list3))   # id() -> prints the memory location of the object\n",
    "\n",
    "list3[2] = 99\n",
    "print(list3, id(list3))"
   ]
  },
  {
   "cell_type": "markdown",
   "metadata": {},
   "source": [
    "Fresh assignment to a variable (irrespective of it being mutable or immutable) leads to new memory allocation"
   ]
  },
  {
   "cell_type": "code",
   "execution_count": 52,
   "metadata": {},
   "outputs": [
    {
     "name": "stdout",
     "output_type": "stream",
     "text": [
      "[2, 3, 4] 4620927240\n",
      "[2, 3, 4] 4620481352\n"
     ]
    }
   ],
   "source": [
    "list4 = [2,3,4]\n",
    "\n",
    "print(list4, id(list4))\n",
    "\n",
    "list4 = [2,3,4]\n",
    "print(list4, id(list4))"
   ]
  },
  {
   "cell_type": "markdown",
   "metadata": {},
   "source": [
    "For immutable containers (tuple) update operation throws error."
   ]
  },
  {
   "cell_type": "code",
   "execution_count": 55,
   "metadata": {},
   "outputs": [
    {
     "name": "stdout",
     "output_type": "stream",
     "text": [
      "(2, 5, 6, 7)\n"
     ]
    },
    {
     "ename": "TypeError",
     "evalue": "'tuple' object does not support item assignment",
     "output_type": "error",
     "traceback": [
      "\u001b[0;31m---------------------------------------------------------------------------\u001b[0m",
      "\u001b[0;31mTypeError\u001b[0m                                 Traceback (most recent call last)",
      "\u001b[0;32m<ipython-input-55-31f7e6cad9af>\u001b[0m in \u001b[0;36m<module>\u001b[0;34m\u001b[0m\n\u001b[1;32m      1\u001b[0m \u001b[0mmy_tuple\u001b[0m \u001b[0;34m=\u001b[0m \u001b[0;34m(\u001b[0m\u001b[0;36m2\u001b[0m\u001b[0;34m,\u001b[0m\u001b[0;36m5\u001b[0m\u001b[0;34m,\u001b[0m\u001b[0;36m6\u001b[0m\u001b[0;34m,\u001b[0m\u001b[0;36m7\u001b[0m\u001b[0;34m)\u001b[0m\u001b[0;34m\u001b[0m\u001b[0;34m\u001b[0m\u001b[0m\n\u001b[1;32m      2\u001b[0m \u001b[0mprint\u001b[0m\u001b[0;34m(\u001b[0m\u001b[0mmy_tuple\u001b[0m\u001b[0;34m)\u001b[0m\u001b[0;34m\u001b[0m\u001b[0;34m\u001b[0m\u001b[0m\n\u001b[0;32m----> 3\u001b[0;31m \u001b[0mmy_tuple\u001b[0m\u001b[0;34m[\u001b[0m\u001b[0;36m2\u001b[0m\u001b[0;34m]\u001b[0m \u001b[0;34m=\u001b[0m \u001b[0;36m99\u001b[0m\u001b[0;34m\u001b[0m\u001b[0;34m\u001b[0m\u001b[0m\n\u001b[0m",
      "\u001b[0;31mTypeError\u001b[0m: 'tuple' object does not support item assignment"
     ]
    }
   ],
   "source": [
    "my_tuple = (2,5,6,7)\n",
    "print(my_tuple)\n",
    "\n",
    "my_tuple[2] = 99"
   ]
  },
  {
   "cell_type": "markdown",
   "metadata": {},
   "source": [
    "Fresh assignment with Immutable objects"
   ]
  },
  {
   "cell_type": "code",
   "execution_count": 69,
   "metadata": {},
   "outputs": [
    {
     "name": "stdout",
     "output_type": "stream",
     "text": [
      "insofe 4520166824\n",
      "mumbai 4520168056\n"
     ]
    }
   ],
   "source": [
    "x = \"insofe\"\n",
    "print(x, id(x))\n",
    "\n",
    "x = \"mumbai\"\n",
    "print(x, id(x))"
   ]
  },
  {
   "cell_type": "markdown",
   "metadata": {},
   "source": [
    "Mutable objects within a immutable object can be modified. Therefore, in such cases the final value of the immutable object changes."
   ]
  },
  {
   "cell_type": "code",
   "execution_count": 53,
   "metadata": {},
   "outputs": [
    {
     "name": "stdout",
     "output_type": "stream",
     "text": [
      "('holberton', [1, 2, 3]) 4615800136\n",
      "('holberton', [1, 2, 5]) 4615800136\n"
     ]
    }
   ],
   "source": [
    "t = ( 'holberton', [1, 2, 3] )\n",
    "print(t, id(t))\n",
    "\n",
    "t[1][2] = 5\n",
    "\n",
    "print(t, id(t))"
   ]
  },
  {
   "cell_type": "markdown",
   "metadata": {},
   "source": [
    "In Python variable assignment is by reference (aka shallow copy)"
   ]
  },
  {
   "cell_type": "code",
   "execution_count": 58,
   "metadata": {},
   "outputs": [
    {
     "name": "stdout",
     "output_type": "stream",
     "text": [
      "Apple 20 4480407568\n",
      "Orange 20 4480407568\n"
     ]
    }
   ],
   "source": [
    "Apple = 20\n",
    "Orange = Apple\n",
    "print(\"Apple\", Apple, id(Apple))\n",
    "print(\"Orange\", Orange, id(Orange))"
   ]
  },
  {
   "cell_type": "markdown",
   "metadata": {},
   "source": [
    "However updating or assigning new value to either of the Immutable variables, will lead to both the variable having seperate memory locations. Since mutable objects allow updating specific values; there is no change in memory location."
   ]
  },
  {
   "cell_type": "code",
   "execution_count": 33,
   "metadata": {},
   "outputs": [
    {
     "name": "stdout",
     "output_type": "stream",
     "text": [
      "Banana [20, 30, 40, 50] 4624911112\n",
      "Mango [20, 30, 40, 50] 4624911112 \n",
      "\n",
      "Banana [20, 30, 40, 99] 4624911112\n",
      "Mango [20, 30, 40, 99] 4624911112 \n",
      "\n",
      "Banana [1, 2, 3] 4624911752\n",
      "Mango [20, 30, 40, 99] 4624911112\n"
     ]
    }
   ],
   "source": [
    "Banana = [20,30,40,50]\n",
    "Mango = Banana\n",
    "print(\"Banana\", Banana, id(Banana))\n",
    "print(\"Mango\", Mango, id(Mango), \"\\n\")\n",
    "\n",
    "Banana[3] = 99\n",
    "print(\"Banana\", Banana, id(Banana))\n",
    "print(\"Mango\", Mango, id(Mango), \"\\n\")\n",
    "\n",
    "Banana = [1, 2, 3]\n",
    "print(\"Banana\", Banana, id(Banana))\n",
    "print(\"Mango\", Mango, id(Mango))"
   ]
  },
  {
   "cell_type": "markdown",
   "metadata": {},
   "source": [
    "Most of the times the above behaviour is not desirable in data science pipeline.\n",
    "\n",
    "Hence we prefer deep-copy which ensures that a hard replica (with seperate memory location) is created.\n",
    "\n",
    "R by default follows copy-on-modify semantics. Which is synonymous to deep-copy**"
   ]
  },
  {
   "cell_type": "code",
   "execution_count": 30,
   "metadata": {},
   "outputs": [
    {
     "name": "stdout",
     "output_type": "stream",
     "text": [
      "Fruits [20, 30, 40, 50] 4620928520\n",
      "Veggies [20, 30, 40, 50] 4620927176 \n",
      "\n",
      "Fruits [20, 30, 40, 99] 4620928520\n",
      "Veggies [20, 30, 40, 50] 4620927176\n"
     ]
    }
   ],
   "source": [
    "Fruits = [20,30,40,50]\n",
    "Veggies = Fruits.copy()\n",
    "print(\"Fruits\", Fruits,id(Fruits))\n",
    "print(\"Veggies\",Veggies,id(Veggies),\"\\n\")\n",
    "\n",
    "Fruits[3] = 99\n",
    "print(\"Fruits\", Fruits, id(Fruits))\n",
    "print(\"Veggies\",Veggies,id(Veggies))"
   ]
  },
  {
   "cell_type": "markdown",
   "metadata": {},
   "source": [
    "### <center>Functions</center>\n",
    "---\n",
    "Python functions are defined using the `def` keyword. "
   ]
  },
  {
   "cell_type": "code",
   "execution_count": 61,
   "metadata": {},
   "outputs": [
    {
     "name": "stdout",
     "output_type": "stream",
     "text": [
      "negative\n",
      "zero\n",
      "positive\n"
     ]
    }
   ],
   "source": [
    "def sign(x) :\n",
    "    \n",
    "    if x > 0:\n",
    "        return 'positive'\n",
    "    elif x < 0:\n",
    "        return 'negative'\n",
    "    else:\n",
    "        return 'zero'\n",
    "\n",
    "for x in [-1, 0, 1]:\n",
    "    print (sign(x))"
   ]
  },
  {
   "cell_type": "markdown",
   "metadata": {},
   "source": [
    "We will often define functions to take optional keyword arguments, like this:"
   ]
  },
  {
   "cell_type": "code",
   "execution_count": 62,
   "metadata": {},
   "outputs": [
    {
     "name": "stdout",
     "output_type": "stream",
     "text": [
      "Hello, Bob!\n",
      "HELLO, FRED\n"
     ]
    }
   ],
   "source": [
    "def hello(name, loud = False):\n",
    "    \n",
    "    if loud:\n",
    "        print ('HELLO,' name.upper())\n",
    "    else:\n",
    "        print ('Hello,', name + '!')\n",
    "\n",
    "hello('Bob')\n",
    "\n",
    "hello('Fred', loud = True)"
   ]
  },
  {
   "cell_type": "markdown",
   "metadata": {},
   "source": [
    "#### <center>ACTIVITY</center>"
   ]
  },
  {
   "cell_type": "markdown",
   "metadata": {},
   "source": [
    "Define a function which would take a number 'n' as input and compute the sum of natural numbers till n.\n",
    "Example if input number is 5, the function returns the result: 1 + 2 + 3 + 4 + 5\n",
    "\n",
    "HINT: You can use the shortcut formula n(n+1)/2.\n",
    "So for n = 5, result = 5*6/2 = 15"
   ]
  },
  {
   "cell_type": "code",
   "execution_count": 48,
   "metadata": {},
   "outputs": [
    {
     "name": "stdout",
     "output_type": "stream",
     "text": [
      "5\n",
      "15.0\n"
     ]
    }
   ],
   "source": [
    "n = int(input())\n",
    "\n",
    "def sum(n) :\n",
    "    return n*(n+1)/2 \n",
    "\n",
    "print(sum(n))"
   ]
  },
  {
   "cell_type": "markdown",
   "metadata": {},
   "source": [
    "Write a function 'F' which would take in two numbers. Based on user choice 1 = add the numbers or 2 = multiply the two numbers, perform the operation and return the appropriate results"
   ]
  },
  {
   "cell_type": "code",
   "execution_count": 58,
   "metadata": {},
   "outputs": [
    {
     "name": "stdout",
     "output_type": "stream",
     "text": [
      "a = 2\n",
      "b = 5\n",
      "press 1 for sum or press 2 for product = 1\n",
      "7\n"
     ]
    }
   ],
   "source": [
    "a = int(input('a = '))\n",
    "b = int(input('b = '))\n",
    "choice = int(input('press 1 for sum or press 2 for product = '))\n",
    "\n",
    "def F(a, b, choice) :\n",
    "    if choice == 1 :\n",
    "        return a + b\n",
    "    elif choice == 2 :\n",
    "        return a * b\n",
    "    else :\n",
    "        return \"Invalid input\"\n",
    "    \n",
    "print(F(a, b, choice))"
   ]
  },
  {
   "cell_type": "code",
   "execution_count": 57,
   "metadata": {},
   "outputs": [
    {
     "name": "stdout",
     "output_type": "stream",
     "text": [
      "a = 2\n",
      "b = 5\n",
      "press 1 for sum or press 2 for product = 3\n",
      "Invalid input\n"
     ]
    }
   ],
   "source": [
    "a = int(input('a = '))\n",
    "b = int(input('b = '))\n",
    "choice = int(input('press 1 for sum or press 2 for product = '))\n",
    "\n",
    "def F(a, b, choice) :\n",
    "    if choice == 1 :\n",
    "        return a + b\n",
    "    elif choice == 2 :\n",
    "        return a * b\n",
    "    else :\n",
    "        return \"Invalid input\"\n",
    "    \n",
    "print(F(a, b, choice))"
   ]
  },
  {
   "cell_type": "markdown",
   "metadata": {},
   "source": [
    "### <center>Lambda Functions</center>\n",
    "---\n",
    "The lambda operator or lambda function is a way to create anonymous functions, i.e. functions without a name. These functions are throw-away functions, i.e. they are just needed where they have been created"
   ]
  },
  {
   "cell_type": "code",
   "execution_count": 63,
   "metadata": {},
   "outputs": [
    {
     "name": "stdout",
     "output_type": "stream",
     "text": [
      "2\n"
     ]
    }
   ],
   "source": [
    "f = lambda x, y : x + y\n",
    "print(f(1, 1))"
   ]
  },
  {
   "cell_type": "markdown",
   "metadata": {},
   "source": [
    "#### <center>ACTIVITY</center>"
   ]
  },
  {
   "cell_type": "markdown",
   "metadata": {},
   "source": [
    "Create a lambda function which would take in 3 inputs i, j and k, and computes the multiplication of i, j and k."
   ]
  },
  {
   "cell_type": "code",
   "execution_count": 59,
   "metadata": {},
   "outputs": [
    {
     "name": "stdout",
     "output_type": "stream",
     "text": [
      "40\n"
     ]
    }
   ],
   "source": [
    "f = lambda i,j,k : i * j * k\n",
    "\n",
    "print(f(1, 5, 8))"
   ]
  },
  {
   "cell_type": "markdown",
   "metadata": {},
   "source": [
    "### map\n",
    "map(func, seq)\n",
    "\n",
    "The first argument func is the name of a function and the second a sequence (e.g. a list) seq. \n",
    "\n",
    "map() applies the function func to all the elements of the sequence seq. \n",
    "\n",
    "It returns a new list with the elements changed by func"
   ]
  },
  {
   "cell_type": "code",
   "execution_count": 64,
   "metadata": {},
   "outputs": [],
   "source": [
    "def fahrenheit(T):\n",
    "    return (float(9)/5)*T + 32\n",
    "\n",
    "def celsius(T):\n",
    "    return ((float(5)/9)*(T - 32))"
   ]
  },
  {
   "cell_type": "code",
   "execution_count": 65,
   "metadata": {},
   "outputs": [
    {
     "name": "stdout",
     "output_type": "stream",
     "text": [
      "[97.7, 98.60000000000001, 99.5, 102.2]\n",
      "[36.5, 37.00000000000001, 37.5, 39.0]\n"
     ]
    }
   ],
   "source": [
    "C = [36.5, 37, 37.5, 39]\n",
    "\n",
    "F = list(map(fahrenheit, C))\n",
    "\n",
    "print (F)\n",
    "\n",
    "C = list(map(celsius, F))\n",
    "\n",
    "print (C)"
   ]
  },
  {
   "cell_type": "markdown",
   "metadata": {},
   "source": [
    "By using lambda, we wouldn't have had to define and name the functions fahrenheit() and celsius()."
   ]
  },
  {
   "cell_type": "code",
   "execution_count": 66,
   "metadata": {},
   "outputs": [
    {
     "name": "stdout",
     "output_type": "stream",
     "text": [
      "[102.56, 97.7, 99.14, 100.03999999999999]\n",
      "[39.2, 36.5, 37.300000000000004, 37.8]\n"
     ]
    }
   ],
   "source": [
    "C = [39.2, 36.5, 37.3, 37.8]\n",
    "\n",
    "F = list( map( lambda x : (float(9)/5)*x + 32, C ) )\n",
    "\n",
    "print (F)\n",
    "\n",
    "C = list(map(lambda x: (float(5)/9)*(x-32), F))\n",
    "\n",
    "print (C)"
   ]
  },
  {
   "cell_type": "markdown",
   "metadata": {},
   "source": [
    "#### <center>ACTIVITY</center>"
   ]
  },
  {
   "cell_type": "markdown",
   "metadata": {},
   "source": [
    "Create a lambda function to multiply 5 to any given number. \n",
    "\n",
    "Create a list 'myList' with numbers 0-5. \n",
    "\n",
    "Map the created lambda function to myList. \n",
    "\n",
    "Print the results"
   ]
  },
  {
   "cell_type": "code",
   "execution_count": 60,
   "metadata": {},
   "outputs": [
    {
     "name": "stdout",
     "output_type": "stream",
     "text": [
      "[0, 5, 10, 15, 20, 25]\n"
     ]
    }
   ],
   "source": [
    "myList = list(range(6))\n",
    "\n",
    "print(list(map(lambda x : x*5, myList)))"
   ]
  },
  {
   "cell_type": "markdown",
   "metadata": {},
   "source": [
    "### filter\n",
    "\n",
    "filter(function, list) \n",
    "\n",
    "It filter out all the elements of a list, for which the function function returns True.\n",
    "\n",
    "The function filter(f,l) needs a function f as its first argument. f returns a Boolean value, i.e. either True or False. \n",
    "\n",
    "This function will be applied to every element of the list l.\n",
    "\n",
    "Only if f returns True will the element of the list be included in the result list. \n",
    "\n",
    "filter() and map() return iterables which can be printed one by one using print(next(even_filter))\n",
    "Or can be converted to list at a go using the list() function"
   ]
  },
  {
   "cell_type": "code",
   "execution_count": 67,
   "metadata": {},
   "outputs": [
    {
     "name": "stdout",
     "output_type": "stream",
     "text": [
      "[1, 1, 3, 5, 13, 21, 55]\n"
     ]
    }
   ],
   "source": [
    "fib = [0,1,1,2,3,5,8,13,21,34,55]\n",
    "\n",
    "result = list( filter(lambda x: x % 2, fib) )\n",
    "\n",
    "print (result)"
   ]
  },
  {
   "cell_type": "markdown",
   "metadata": {},
   "source": [
    "#### <center>ACTIVITY</center>"
   ]
  },
  {
   "cell_type": "markdown",
   "metadata": {},
   "source": [
    "Create a list with the following elements: 'a', 'b', 'c', 'i', 'o'.\n",
    "Using filter, extract out the vowels in the list"
   ]
  },
  {
   "cell_type": "code",
   "execution_count": 61,
   "metadata": {},
   "outputs": [
    {
     "name": "stdout",
     "output_type": "stream",
     "text": [
      "['a', 'i', 'o']\n"
     ]
    }
   ],
   "source": [
    "fib = 'abcio'\n",
    "\n",
    "result = list(filter(lambda x: x.lower() in 'aeiou', fib))\n",
    "\n",
    "print(result)"
   ]
  },
  {
   "cell_type": "markdown",
   "metadata": {},
   "source": [
    "### reduce\n",
    "\n",
    "reduce(function, sequence[, initial]) \n",
    "\n",
    "The reduce() function accepts a function and a sequence and returns a single value calculated as follows:\n",
    "\n",
    "Initially, the function is called with the first two items from the sequence and the result is returned.\n",
    "\n",
    "The function is then called again with the result obtained in step 1 and the next value in the sequence. \n",
    "\n",
    "This process keeps repeating until there are items in the sequence."
   ]
  },
  {
   "cell_type": "code",
   "execution_count": 63,
   "metadata": {},
   "outputs": [
    {
     "name": "stdout",
     "output_type": "stream",
     "text": [
      "[0, 1, 2, 3, 4, 5, 6, 7, 8, 9] \n",
      "\n",
      "45\n"
     ]
    }
   ],
   "source": [
    "import functools \n",
    "\n",
    "my_list = list(range(10))\n",
    "\n",
    "reduced_list = functools.reduce( lambda x, y : x + y, my_list)\n",
    "\n",
    "print(my_list,'\\n')\n",
    "\n",
    "print(reduced_list)"
   ]
  },
  {
   "cell_type": "code",
   "execution_count": null,
   "metadata": {},
   "outputs": [],
   "source": []
  }
 ],
 "metadata": {
  "kernelspec": {
   "display_name": "Python 3",
   "language": "python",
   "name": "python3"
  },
  "language_info": {
   "codemirror_mode": {
    "name": "ipython",
    "version": 3
   },
   "file_extension": ".py",
   "mimetype": "text/x-python",
   "name": "python",
   "nbconvert_exporter": "python",
   "pygments_lexer": "ipython3",
   "version": "3.7.6"
  }
 },
 "nbformat": 4,
 "nbformat_minor": 2
}
