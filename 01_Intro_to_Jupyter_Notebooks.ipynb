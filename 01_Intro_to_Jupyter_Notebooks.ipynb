{
 "cells": [
  {
   "cell_type": "markdown",
   "metadata": {},
   "source": [
    "<h1 style=\"text-align: center;\"> Introduction to Jupyter Notebooks </h1>\n",
    "\n",
    "<br />\n",
    "\n",
    "* The __Jupyter Notebook__ is a powerful tool that combines the power of rich formated text through markdown, code and it's output, mathematical forumalae using latex, interactive visualisations, and other rich media.\n",
    "\n",
    "<br />\n",
    "\n",
    "* This combination of narration and code simplifies the process of sharing our data analysis experiments and the thought process behind such experiments\n",
    "\n",
    "<br />"
   ]
  },
  {
   "cell_type": "markdown",
   "metadata": {},
   "source": [
    "## Launching Jupyter Notebook\n",
    "\n",
    "<br />\n",
    "\n",
    "* To launch the Jupyter Notebook's __Dashboard__ you need to go to the directory where you want to create your notebook and where you have all the relevant files (datasets) for your analysis\n",
    "\n",
    "<br />\n",
    "\n",
    "* Open the terminal / command prompt from that folder\n",
    "\n",
    "<br />\n",
    "\n",
    "* In your terminal, once you are at the folder where you want to start Jupyter Notebook enter the command `jupyter notebook` in the terminal / command prompt and hit enter\n",
    "\n",
    "<br />\n",
    "\n",
    "<img src='img/jupyter_nb_launch.png'/>\n",
    "\n",
    "<br />\n",
    "\n",
    "* Jupyter notebook launches a python server in the terminal that acts as the backend to the frontend web app which is where we write the code. \n",
    "\n",
    "<br />\n",
    "\n",
    "## Jupyter Front End vs Back End\n",
    "\n",
    "<br />\n",
    "\n",
    "* The front end `Dashboard`, which opens as a new tab in your default browser looks as follows\n",
    "\n",
    "<br />\n",
    "\n",
    "<img src='img/jupyter_home.jpg'/>\n",
    "\n",
    "<br />\n",
    "\n",
    "* The backend server for the __IPython kernel__ looks as follows, do not close it!\n",
    "\n",
    "<br />\n",
    "\n",
    "<img src='img/jupyter_server.png' width='662px'/>"
   ]
  },
  {
   "cell_type": "markdown",
   "metadata": {},
   "source": [
    "<br />\n",
    "\n",
    "### What is an `ipynb` file?\n",
    "\n",
    "* Creating a jupyter notebook / `ipynb` file is pretty straight forward. Click the `new` dropdown button on the top right corner of the `Dashboard` and then select the Python version to create a new notebook \n",
    "\n",
    "<br />\n",
    "\n",
    "<img src='img/dashboard_files_tab_new.png' width='700px'/>\n",
    "\n",
    "<br />\n",
    "\n",
    "* Once you select the python version, an `ipynb` file is created in the folder where you started the jupyter notebook server\n",
    "\n",
    "<br />\n",
    "\n",
    "* The `.ipynb` file extension stands for an `IPython notebook` and by default when a new notebook is launced, it looks as follows and the default file name is `Untitled.ipynb`\n",
    "\n",
    "<br />\n",
    "\n",
    "* If you look at the __Jupyter Dashboard__ and the __folder__ where you started the jupyter notebook server, you will notice the newly created `Untitled.ipynb` file.\n",
    "\n",
    "<br />\n",
    "\n",
    "### Components of an `ipynb` file\n",
    "\n",
    "<br />\n",
    "\n",
    "<img src='img/blank-notebook-ui.png'/>\n"
   ]
  },
  {
   "cell_type": "markdown",
   "metadata": {},
   "source": [
    "Let's breakdown a few things from the above image:\n",
    "        \n",
    "    * The Name of the notebook can be changed by clicking the top left hand corner where you see 'Untitled'\n",
    "\n",
    "    * There is a menu bar just below that and the toolbar below it, both of which have self explanatory options\n",
    "\n",
    "    * Below the toolbar, you see a code cell, where we can write and execute code"
   ]
  },
  {
   "cell_type": "markdown",
   "metadata": {},
   "source": [
    "## Key Terms\n",
    "\n",
    "Before diving deeper, let's understand two specific terms related to jupyter notebooks\n",
    "\n",
    "    * Kernels: A kernel can be thought of as a computational engine, it executes the code in a cell\n",
    "    \n",
    "    * Cell: A cell is a container for code to be executed by the kernel of the notebook or rich text to be displayed"
   ]
  },
  {
   "cell_type": "markdown",
   "metadata": {},
   "source": [
    "## Cell Types\n",
    "\n",
    "Let's look at the different types of cells:\n",
    "\n",
    "    * Code cell: Contains code to be executed in the cell (Use 'ctrl + enter\" or \"shift + enter\" to execute the code)\n",
    "    \n",
    "    * Markdown Cell: Can containe markdown formatted text and latex based math formulae\n",
    "    \n",
    "    * Raw NBConvert: The text in this cell is raw and is not formatted / styled\n",
    "    \n",
    "    * Heading Cell: The heading cell has now been replaced with a markdown cell with '#' \n",
    "    \n",
    "<img src='img/cell_types.png'/>\n",
    "\n",
    "<br />\n",
    "\n",
    "Read up more on markdown in the cheat sheet linked [here](https://github.com/adam-p/markdown-here/wiki/Markdown-Cheatsheet)"
   ]
  },
  {
   "cell_type": "markdown",
   "metadata": {
    "collapsed": true
   },
   "source": [
    "## Types of selecting cells\n",
    "\n",
    "    * Edit mode: The selected cell is green in colour and the text can be edited\n",
    "    \n",
    "    * Select mode: The selected cell is blue in color and can be copied and pasted to different parts of a notebook"
   ]
  },
  {
   "cell_type": "markdown",
   "metadata": {},
   "source": [
    "## A few more tips using the Jupyter Notebook\n",
    "\n",
    "<br />\n",
    "\n",
    "* The toolbar icons help you cut, paste, run, and modify the type of cells. There is also an explicit option to save your notebook\n",
    "\n",
    "<br />\n",
    "\n",
    "* The Menu Bar also has a lot of self explanatory options, including the `download as` option under the file dropdown which lets you download your notebook file as one of many file types including `HTML, ipynb, py, pdf, etc.`\n",
    "\n",
    "<br /> "
   ]
  }
 ],
 "metadata": {
  "kernelspec": {
   "display_name": "Python 3",
   "language": "python",
   "name": "python3"
  },
  "language_info": {
   "codemirror_mode": {
    "name": "ipython",
    "version": 3
   },
   "file_extension": ".py",
   "mimetype": "text/x-python",
   "name": "python",
   "nbconvert_exporter": "python",
   "pygments_lexer": "ipython3",
   "version": "3.6.8"
  }
 },
 "nbformat": 4,
 "nbformat_minor": 2
}
